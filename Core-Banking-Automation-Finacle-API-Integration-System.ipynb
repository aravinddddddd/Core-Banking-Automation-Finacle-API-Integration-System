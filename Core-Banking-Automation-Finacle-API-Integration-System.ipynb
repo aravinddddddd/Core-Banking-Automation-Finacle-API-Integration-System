{
  "nbformat": 4,
  "nbformat_minor": 0,
  "metadata": {
    "colab": {
      "provenance": [],
      "authorship_tag": "ABX9TyO1dlMfFng1k6CeCIXFId35",
      "include_colab_link": true
    },
    "kernelspec": {
      "name": "python3",
      "display_name": "Python 3"
    },
    "language_info": {
      "name": "python"
    }
  },
  "cells": [
    {
      "cell_type": "markdown",
      "metadata": {
        "id": "view-in-github",
        "colab_type": "text"
      },
      "source": [
        "<a href=\"https://colab.research.google.com/github/aravinddddddd/Core-Banking-Automation-Finacle-API-Integration-System/blob/main/Core-Banking-Automation-Finacle-API-Integration-System.ipynb\" target=\"_parent\"><img src=\"https://colab.research.google.com/assets/colab-badge.svg\" alt=\"Open In Colab\"/></a>"
      ]
    },
    {
      "cell_type": "code",
      "source": [
        "import csv\n",
        "import random\n",
        "import os\n",
        "\n",
        "os.makedirs('data', exist_ok=True)\n",
        "with open('data/customers.csv','w',newline='') as f:\n",
        "    w = csv.writer(f)\n",
        "    w.writerow(['customer_id','name','account_type','balance','status'])\n",
        "    for i in range(1,50001):\n",
        "        name = f\"Cust{i}\"\n",
        "        acct = 'Savings' if i%2==0 else 'Current'\n",
        "        balance = round(random.uniform(0,200000),2)\n",
        "        status = 'Active' if random.random() < 0.9 else 'Inactive'\n",
        "        w.writerow([i, name, acct, balance, status])\n",
        "print(\"Created 50,000 records.\")"
      ],
      "metadata": {
        "colab": {
          "base_uri": "https://localhost:8080/"
        },
        "id": "2Pz7Cn77myie",
        "outputId": "7cde3014-77ae-4ae6-acb1-61d0ad418e1a"
      },
      "execution_count": 1,
      "outputs": [
        {
          "output_type": "stream",
          "name": "stdout",
          "text": [
            "Created 50,000 records.\n"
          ]
        }
      ]
    },
    {
      "cell_type": "code",
      "source": [
        "# scripts/data_loader.py\n",
        "import pandas as pd\n",
        "import sqlite3\n",
        "import os\n",
        "\n",
        "DATA_FILE = os.path.join('data', 'customers.csv')\n",
        "DB_FILE = os.path.join('db', 'bank.db')\n",
        "SCHEMA = '''\n",
        "CREATE TABLE IF NOT EXISTS customers (\n",
        "    customer_id INTEGER PRIMARY KEY,\n",
        "    name TEXT,\n",
        "    account_type TEXT,\n",
        "    balance REAL,\n",
        "    status TEXT\n",
        ");\n",
        "'''\n",
        "\n",
        "# read CSV\n",
        "df = pd.read_csv(DATA_FILE)\n",
        "\n",
        "# trim whitespace on column names\n",
        "df.columns = [c.strip() for c in df.columns]\n",
        "\n",
        "# required fields\n",
        "required = ['customer_id', 'name', 'account_type', 'balance', 'status']\n",
        "\n",
        "# count rows that have ALL required fields non-empty/non-null\n",
        "# For safety, treat empty string or NaN as missing\n",
        "complete_mask = df[required].applymap(lambda x: not (pd.isna(x) or (isinstance(x, str) and x.strip() == ''))).all(axis=1)\n",
        "complete_rows = df[complete_mask]\n",
        "mapping_accuracy = len(complete_rows) / len(df) if len(df) > 0 else 0\n",
        "\n",
        "# create db folder and write\n",
        "os.makedirs('db', exist_ok=True)\n",
        "conn = sqlite3.connect(DB_FILE)\n",
        "conn.executescript(SCHEMA)\n",
        "# store only complete rows to simulate onboarding\n",
        "complete_rows.to_sql('customers', conn, if_exists='replace', index=False)\n",
        "conn.commit()\n",
        "conn.close()\n",
        "\n",
        "print(f\"Total rows in CSV: {len(df)}\")\n",
        "print(f\"Complete rows loaded into DB: {len(complete_rows)}\")\n",
        "print(f\"Data mapping accuracy: {mapping_accuracy * 100:.2f}%\")\n",
        "print(f\"Database written to {DB_FILE}\")"
      ],
      "metadata": {
        "id": "EjHweZTgnGeh",
        "outputId": "b674de33-e9e5-45bd-8f53-4ed3a09aa4b8",
        "colab": {
          "base_uri": "https://localhost:8080/"
        }
      },
      "execution_count": 2,
      "outputs": [
        {
          "output_type": "stream",
          "name": "stderr",
          "text": [
            "/tmp/ipython-input-188330634.py:29: FutureWarning: DataFrame.applymap has been deprecated. Use DataFrame.map instead.\n",
            "  complete_mask = df[required].applymap(lambda x: not (pd.isna(x) or (isinstance(x, str) and x.strip() == ''))).all(axis=1)\n"
          ]
        },
        {
          "output_type": "stream",
          "name": "stdout",
          "text": [
            "Total rows in CSV: 50000\n",
            "Complete rows loaded into DB: 50000\n",
            "Data mapping accuracy: 100.00%\n",
            "Database written to db/bank.db\n"
          ]
        }
      ]
    },
    {
      "cell_type": "code",
      "source": [
        "import pandas as pd\n",
        "import sqlite3\n",
        "import os\n",
        "\n",
        "# paths\n",
        "DATA_FILE = 'data/customers.csv'\n",
        "DB_FILE = 'bank.db'  # simpler in colab, saves in current folder\n",
        "\n",
        "# make sure file exists\n",
        "if not os.path.exists(DATA_FILE):\n",
        "    raise FileNotFoundError(\"customers.csv not found. Please run generator again!\")\n",
        "\n",
        "# read CSV\n",
        "df = pd.read_csv(DATA_FILE)\n",
        "\n",
        "# required columns\n",
        "required = ['customer_id', 'name', 'account_type', 'balance', 'status']\n",
        "\n",
        "# check completeness (98% good)\n",
        "def is_complete(row):\n",
        "    for col in required:\n",
        "        val = row[col]\n",
        "        if pd.isna(val) or (isinstance(val, str) and val.strip() == ''):\n",
        "            return False\n",
        "    return True\n",
        "\n",
        "complete_rows = df[df.apply(is_complete, axis=1)]\n",
        "\n",
        "# calculate mapping accuracy\n",
        "mapping_accuracy = len(complete_rows) / len(df) * 100\n",
        "\n",
        "# save to SQLite database\n",
        "conn = sqlite3.connect(DB_FILE)\n",
        "conn.execute('DROP TABLE IF EXISTS customers')\n",
        "conn.execute('''\n",
        "CREATE TABLE customers (\n",
        "    customer_id INTEGER PRIMARY KEY,\n",
        "    name TEXT,\n",
        "    account_type TEXT,\n",
        "    balance REAL,\n",
        "    status TEXT\n",
        ")\n",
        "''')\n",
        "\n",
        "complete_rows.to_sql('customers', conn, if_exists='append', index=False)\n",
        "conn.commit()\n",
        "conn.close()\n",
        "\n",
        "print(\"✅ Data loaded successfully!\")\n",
        "print(f\"Total rows in CSV: {len(df)}\")\n",
        "print(f\"Rows loaded to DB: {len(complete_rows)}\")\n",
        "print(f\"Mapping accuracy: {mapping_accuracy:.2f}%\")\n",
        "print(f\"Database file saved as: {DB_FILE}\")"
      ],
      "metadata": {
        "colab": {
          "base_uri": "https://localhost:8080/"
        },
        "id": "yHkvlHWIqQp0",
        "outputId": "c37931d7-3fc3-4ee3-9c0e-c064cb64f165"
      },
      "execution_count": 3,
      "outputs": [
        {
          "output_type": "stream",
          "name": "stdout",
          "text": [
            "✅ Data loaded successfully!\n",
            "Total rows in CSV: 50000\n",
            "Rows loaded to DB: 50000\n",
            "Mapping accuracy: 100.00%\n",
            "Database file saved as: bank.db\n"
          ]
        }
      ]
    },
    {
      "cell_type": "code",
      "source": [
        "import sqlite3\n",
        "\n",
        "conn = sqlite3.connect('bank.db')\n",
        "cur = conn.cursor()\n",
        "cur.execute(\"SELECT COUNT(*) FROM customers\")\n",
        "rows = cur.fetchone()[0]\n",
        "print(\"✅ Rows stored in database:\", rows)\n",
        "\n",
        "cur.execute(\"SELECT * FROM customers LIMIT 5\")\n",
        "print(\"\\n🧾 Sample data:\")\n",
        "for row in cur.fetchall():\n",
        "    print(row)\n",
        "\n",
        "conn.close()"
      ],
      "metadata": {
        "colab": {
          "base_uri": "https://localhost:8080/"
        },
        "id": "CjIGViUzqgon",
        "outputId": "9c6a4564-4ef5-4724-8346-0210a5de3733"
      },
      "execution_count": 4,
      "outputs": [
        {
          "output_type": "stream",
          "name": "stdout",
          "text": [
            "✅ Rows stored in database: 50000\n",
            "\n",
            "🧾 Sample data:\n",
            "(1, 'Cust1', 'Current', 165918.22, 'Active')\n",
            "(2, 'Cust2', 'Savings', 27670.66, 'Inactive')\n",
            "(3, 'Cust3', 'Current', 9212.44, 'Active')\n",
            "(4, 'Cust4', 'Savings', 17399.88, 'Active')\n",
            "(5, 'Cust5', 'Current', 102376.71, 'Active')\n"
          ]
        }
      ]
    },
    {
      "cell_type": "code",
      "source": [
        "!pip install flask flask_ngrok"
      ],
      "metadata": {
        "colab": {
          "base_uri": "https://localhost:8080/"
        },
        "id": "LeU9nBR_r7ce",
        "outputId": "1c458450-50fe-4b72-8aac-ad38c650aadd"
      },
      "execution_count": 5,
      "outputs": [
        {
          "output_type": "stream",
          "name": "stdout",
          "text": [
            "Requirement already satisfied: flask in /usr/local/lib/python3.12/dist-packages (3.1.2)\n",
            "Collecting flask_ngrok\n",
            "  Downloading flask_ngrok-0.0.25-py3-none-any.whl.metadata (1.8 kB)\n",
            "Requirement already satisfied: blinker>=1.9.0 in /usr/local/lib/python3.12/dist-packages (from flask) (1.9.0)\n",
            "Requirement already satisfied: click>=8.1.3 in /usr/local/lib/python3.12/dist-packages (from flask) (8.3.0)\n",
            "Requirement already satisfied: itsdangerous>=2.2.0 in /usr/local/lib/python3.12/dist-packages (from flask) (2.2.0)\n",
            "Requirement already satisfied: jinja2>=3.1.2 in /usr/local/lib/python3.12/dist-packages (from flask) (3.1.6)\n",
            "Requirement already satisfied: markupsafe>=2.1.1 in /usr/local/lib/python3.12/dist-packages (from flask) (3.0.3)\n",
            "Requirement already satisfied: werkzeug>=3.1.0 in /usr/local/lib/python3.12/dist-packages (from flask) (3.1.3)\n",
            "Requirement already satisfied: requests in /usr/local/lib/python3.12/dist-packages (from flask_ngrok) (2.32.4)\n",
            "Requirement already satisfied: charset_normalizer<4,>=2 in /usr/local/lib/python3.12/dist-packages (from requests->flask_ngrok) (3.4.4)\n",
            "Requirement already satisfied: idna<4,>=2.5 in /usr/local/lib/python3.12/dist-packages (from requests->flask_ngrok) (3.11)\n",
            "Requirement already satisfied: urllib3<3,>=1.21.1 in /usr/local/lib/python3.12/dist-packages (from requests->flask_ngrok) (2.5.0)\n",
            "Requirement already satisfied: certifi>=2017.4.17 in /usr/local/lib/python3.12/dist-packages (from requests->flask_ngrok) (2025.10.5)\n",
            "Downloading flask_ngrok-0.0.25-py3-none-any.whl (3.1 kB)\n",
            "Installing collected packages: flask_ngrok\n",
            "Successfully installed flask_ngrok-0.0.25\n"
          ]
        }
      ]
    },
    {
      "cell_type": "code",
      "source": [
        "!pip install flask-pyngrok"
      ],
      "metadata": {
        "colab": {
          "base_uri": "https://localhost:8080/"
        },
        "id": "HU6D7QRHtbMI",
        "outputId": "13991fbe-5946-4a09-bb18-d22eb2a4d60c"
      },
      "execution_count": 6,
      "outputs": [
        {
          "output_type": "stream",
          "name": "stdout",
          "text": [
            "Collecting flask-pyngrok\n",
            "  Downloading Flask-PyNgrok-1.0.3.tar.gz (2.3 kB)\n",
            "  Preparing metadata (setup.py) ... \u001b[?25l\u001b[?25hdone\n",
            "Requirement already satisfied: Flask in /usr/local/lib/python3.12/dist-packages (from flask-pyngrok) (3.1.2)\n",
            "Collecting pyngrok (from flask-pyngrok)\n",
            "  Downloading pyngrok-7.4.1-py3-none-any.whl.metadata (8.1 kB)\n",
            "Requirement already satisfied: blinker>=1.9.0 in /usr/local/lib/python3.12/dist-packages (from Flask->flask-pyngrok) (1.9.0)\n",
            "Requirement already satisfied: click>=8.1.3 in /usr/local/lib/python3.12/dist-packages (from Flask->flask-pyngrok) (8.3.0)\n",
            "Requirement already satisfied: itsdangerous>=2.2.0 in /usr/local/lib/python3.12/dist-packages (from Flask->flask-pyngrok) (2.2.0)\n",
            "Requirement already satisfied: jinja2>=3.1.2 in /usr/local/lib/python3.12/dist-packages (from Flask->flask-pyngrok) (3.1.6)\n",
            "Requirement already satisfied: markupsafe>=2.1.1 in /usr/local/lib/python3.12/dist-packages (from Flask->flask-pyngrok) (3.0.3)\n",
            "Requirement already satisfied: werkzeug>=3.1.0 in /usr/local/lib/python3.12/dist-packages (from Flask->flask-pyngrok) (3.1.3)\n",
            "Requirement already satisfied: PyYAML>=5.1 in /usr/local/lib/python3.12/dist-packages (from pyngrok->flask-pyngrok) (6.0.3)\n",
            "Downloading pyngrok-7.4.1-py3-none-any.whl (25 kB)\n",
            "Building wheels for collected packages: flask-pyngrok\n",
            "  Building wheel for flask-pyngrok (setup.py) ... \u001b[?25l\u001b[?25hdone\n",
            "  Created wheel for flask-pyngrok: filename=Flask_PyNgrok-1.0.3-py3-none-any.whl size=2164 sha256=740297eb24eeb06938e03f4e529b623cb7847467d0744045e7d2f668543f5e63\n",
            "  Stored in directory: /root/.cache/pip/wheels/1f/6e/73/3f8ee856a722ea638966ec03f5920c05fb991ce4244652a0aa\n",
            "Successfully built flask-pyngrok\n",
            "Installing collected packages: pyngrok, flask-pyngrok\n",
            "Successfully installed flask-pyngrok-1.0.3 pyngrok-7.4.1\n"
          ]
        }
      ]
    },
    {
      "cell_type": "code",
      "source": [
        "from pyngrok import ngrok\n",
        "ngrok.set_auth_token(\"34ma62Cm6goWk5PAQ256lFdiEei_64SxfanWRCJK7YeVAVGEM\")"
      ],
      "metadata": {
        "colab": {
          "base_uri": "https://localhost:8080/"
        },
        "id": "GvfVWLlwufUA",
        "outputId": "85850e92-1248-4cea-c99d-0238bf48c7d2"
      },
      "execution_count": 7,
      "outputs": [
        {
          "output_type": "stream",
          "name": "stdout",
          "text": []
        }
      ]
    },
    {
      "cell_type": "code",
      "source": [
        "# ✅ Works in Colab using pyngrok\n",
        "from flask import Flask, request, jsonify\n",
        "from pyngrok import ngrok\n",
        "import random, threading\n",
        "\n",
        "app = Flask(__name__)\n",
        "\n",
        "@app.route('/')\n",
        "def home():\n",
        "    return \"✅ Finacle Mock API Running\"\n",
        "\n",
        "@app.route('/api/validateTransaction', methods=['POST'])\n",
        "def validate_transaction():\n",
        "    data = request.json or {}\n",
        "    txn_id = data.get(\"txn_id\", \"unknown\")\n",
        "    amount = data.get(\"amount\", 0)\n",
        "\n",
        "    # Simulate 98% success rate\n",
        "    if random.random() < 0.98:\n",
        "        return jsonify({\n",
        "            \"status\": \"success\",\n",
        "            \"txn_id\": txn_id,\n",
        "            \"amount\": amount,\n",
        "            \"message\": \"Transaction validated successfully\"\n",
        "        }), 200\n",
        "    else:\n",
        "        return jsonify({\n",
        "            \"status\": \"failed\",\n",
        "            \"txn_id\": txn_id,\n",
        "            \"reason\": \"Simulated transaction error\"\n",
        "        }), 400\n",
        "\n",
        "# Open ngrok tunnel on port 5000\n",
        "public_url = ngrok.connect(5000)\n",
        "print(\"🌍 Public URL:\", public_url)\n",
        "\n",
        "# Run Flask in a background thread so Colab doesn't block\n",
        "threading.Thread(target=lambda: app.run(port=5000)).start()"
      ],
      "metadata": {
        "colab": {
          "base_uri": "https://localhost:8080/"
        },
        "id": "5lI8FYSHu1oM",
        "outputId": "9518b6ae-a096-47cd-ec31-a676a4492168"
      },
      "execution_count": 8,
      "outputs": [
        {
          "output_type": "stream",
          "name": "stdout",
          "text": [
            "🌍 Public URL: NgrokTunnel: \"https://carking-ashly-unspecializing.ngrok-free.dev\" -> \"http://localhost:5000\"\n"
          ]
        }
      ]
    },
    {
      "cell_type": "code",
      "source": [
        "import requests\n",
        "\n",
        "url = \"https://carking-ashly-unspecializing.ngrok-free.dev/api/validateTransaction\"\n",
        "payload = {\"txn_id\": \"TXN12345\", \"amount\": 5000}\n",
        "\n",
        "r = requests.post(url, json=payload)\n",
        "print(\"Response Code:\", r.status_code)\n",
        "print(\"Response JSON:\", r.json())"
      ],
      "metadata": {
        "colab": {
          "base_uri": "https://localhost:8080/"
        },
        "id": "POy_6bl4vKIq",
        "outputId": "fc6c5dc6-9acb-4dd2-c28b-767ef1ce710c"
      },
      "execution_count": 9,
      "outputs": [
        {
          "output_type": "stream",
          "name": "stderr",
          "text": [
            "INFO:werkzeug:127.0.0.1 - - [30/Oct/2025 15:44:41] \"POST /api/validateTransaction HTTP/1.1\" 200 -\n"
          ]
        },
        {
          "output_type": "stream",
          "name": "stdout",
          "text": [
            "Response Code: 200\n",
            "Response JSON: {'amount': 5000, 'message': 'Transaction validated successfully', 'status': 'success', 'txn_id': 'TXN12345'}\n"
          ]
        }
      ]
    },
    {
      "cell_type": "code",
      "source": [
        "import os, shutil\n",
        "\n",
        "def deploy():\n",
        "    print(\"🚀 Deploying Finacle API simulation...\")\n",
        "    os.makedirs(\"deployment_logs\", exist_ok=True)\n",
        "    with open(\"deployment_logs/deploy.log\", \"w\") as f:\n",
        "        f.write(\"Deployment successful\\n\")\n",
        "    print(\"✅ Deployment completed successfully.\")\n",
        "\n",
        "deploy()"
      ],
      "metadata": {
        "colab": {
          "base_uri": "https://localhost:8080/"
        },
        "id": "KF368Zpivv1F",
        "outputId": "479ba397-1da7-402c-8317-05b66b087736"
      },
      "execution_count": 10,
      "outputs": [
        {
          "output_type": "stream",
          "name": "stdout",
          "text": [
            "🚀 Deploying Finacle API simulation...\n",
            "✅ Deployment completed successfully.\n"
          ]
        }
      ]
    },
    {
      "cell_type": "code",
      "source": [
        "import os\n",
        "\n",
        "def rollback():\n",
        "    print(\"🔁 Rolling back to previous stable version...\")\n",
        "    if os.path.exists(\"deployment_logs/deploy.log\"):\n",
        "        os.remove(\"deployment_logs/deploy.log\")\n",
        "        print(\"✅ Rollback completed successfully.\")\n",
        "    else:\n",
        "        print(\"⚠ No deployment found to rollback.\")\n",
        "\n",
        "rollback()"
      ],
      "metadata": {
        "colab": {
          "base_uri": "https://localhost:8080/"
        },
        "id": "F78F9r65v9NC",
        "outputId": "b451e497-e185-44ee-c288-7b558f64584e"
      },
      "execution_count": 11,
      "outputs": [
        {
          "output_type": "stream",
          "name": "stdout",
          "text": [
            "🔁 Rolling back to previous stable version...\n",
            "✅ Rollback completed successfully.\n"
          ]
        }
      ]
    }
  ]
}